{
 "cells": [
  {
   "cell_type": "code",
   "execution_count": 1,
   "id": "8e167b02",
   "metadata": {
    "_cell_guid": "b1076dfc-b9ad-4769-8c92-a6c4dae69d19",
    "_uuid": "8f2839f25d086af736a60e9eeb907d3b93b6e0e5",
    "execution": {
     "iopub.execute_input": "2024-02-13T04:53:56.604060Z",
     "iopub.status.busy": "2024-02-13T04:53:56.602594Z",
     "iopub.status.idle": "2024-02-13T04:53:56.630561Z",
     "shell.execute_reply": "2024-02-13T04:53:56.631196Z",
     "shell.execute_reply.started": "2021-09-08T07:15:53.118079Z"
    },
    "papermill": {
     "duration": 0.061836,
     "end_time": "2024-02-13T04:53:56.631605",
     "exception": false,
     "start_time": "2024-02-13T04:53:56.569769",
     "status": "completed"
    },
    "tags": []
   },
   "outputs": [
    {
     "name": "stdout",
     "output_type": "stream",
     "text": [
      "/kaggle/input/loan-prediction-based-on-customer-behavior/Test Data.csv\n",
      "/kaggle/input/loan-prediction-based-on-customer-behavior/Training Data.csv\n",
      "/kaggle/input/loan-prediction-based-on-customer-behavior/Sample Prediction Dataset.csv\n"
     ]
    }
   ],
   "source": [
    "#download the Data set using below link\n",
    "\n",
    "https://www.kaggle.com/datasets/subhamjain/loan-prediction-based-on-customer-behavior\n",
    "\n",
    "#in that copy link of training data"
   ]
  },
  {
   "cell_type": "markdown",
   "id": "d55f7cf8",
   "metadata": {},
   "source": []
  },
  {
   "cell_type": "markdown",
   "id": "a39b052c",
   "metadata": {},
   "source": []
  },
  {
   "cell_type": "markdown",
   "id": "614c5e1e",
   "metadata": {},
   "source": []
  },
  {
   "cell_type": "markdown",
   "id": "16dddb92",
   "metadata": {
    "papermill": {
     "duration": 0.024735,
     "end_time": "2024-02-13T04:53:56.686825",
     "exception": false,
     "start_time": "2024-02-13T04:53:56.662090",
     "status": "completed"
    },
    "tags": []
   },
   "source": [
    "![](https://www.paisabazaar.com/wp-content/webp-express/webp-images/doc-root/wp-content/uploads/2017/11/double-whammy.jpg.webp)"
   ]
  },
  {
   "cell_type": "markdown",
   "id": "c5569398",
   "metadata": {
    "papermill": {
     "duration": 0.024244,
     "end_time": "2024-02-13T04:53:56.735582",
     "exception": false,
     "start_time": "2024-02-13T04:53:56.711338",
     "status": "completed"
    },
    "tags": []
   },
   "source": [
    "**This notebook tries to predict the House Loan Defaulters with the help of various features such as Profession, Current House Years, Current Job Years, Income, etc.**"
   ]
  },
  {
   "cell_type": "markdown",
   "id": "7004fbcc",
   "metadata": {
    "papermill": {
     "duration": 0.024647,
     "end_time": "2024-02-13T04:53:56.784682",
     "exception": false,
     "start_time": "2024-02-13T04:53:56.760035",
     "status": "completed"
    },
    "tags": []
   },
   "source": [
    "# Importing Required Libraries"
   ]
  },
  {
   "cell_type": "code",
   "execution_count": 2,
   "id": "5f733a8e",
   "metadata": {
    "execution": {
     "iopub.execute_input": "2024-02-13T04:53:56.841957Z",
     "iopub.status.busy": "2024-02-13T04:53:56.841073Z",
     "iopub.status.idle": "2024-02-13T04:54:00.148567Z",
     "shell.execute_reply": "2024-02-13T04:54:00.147846Z",
     "shell.execute_reply.started": "2021-09-08T07:16:21.828511Z"
    },
    "papermill": {
     "duration": 3.336716,
     "end_time": "2024-02-13T04:54:00.148775",
     "exception": false,
     "start_time": "2024-02-13T04:53:56.812059",
     "status": "completed"
    },
    "tags": []
   },
   "outputs": [],
   "source": [
    "import numpy as np\n",
    "import pandas as pd \n",
    "import matplotlib.pyplot as plt\n",
    "import plotly.express as px\n",
    "import seaborn as sns\n",
    "%matplotlib inline\n",
    "from sklearn.preprocessing import LabelEncoder\n",
    "from sklearn.model_selection import train_test_split\n",
    "from sklearn.linear_model import LinearRegression\n",
    "from sklearn.ensemble import RandomForestRegressor\n",
    "import sklearn.metrics as metrics\n",
    "import os"
   ]
  },
  {
   "cell_type": "markdown",
   "id": "2786eb78",
   "metadata": {
    "papermill": {
     "duration": 0.026477,
     "end_time": "2024-02-13T04:54:00.202402",
     "exception": false,
     "start_time": "2024-02-13T04:54:00.175925",
     "status": "completed"
    },
    "tags": []
   },
   "source": [
    "# Reading the CSV File "
   ]
  },
  {
   "cell_type": "code",
   "execution_count": 3,
   "id": "29e6fb89",
   "metadata": {
    "execution": {
     "iopub.execute_input": "2024-02-13T04:54:00.258004Z",
     "iopub.status.busy": "2024-02-13T04:54:00.257131Z",
     "iopub.status.idle": "2024-02-13T04:54:01.115039Z",
     "shell.execute_reply": "2024-02-13T04:54:01.114157Z",
     "shell.execute_reply.started": "2021-09-08T07:16:48.122841Z"
    },
    "papermill": {
     "duration": 0.887394,
     "end_time": "2024-02-13T04:54:01.115228",
     "exception": false,
     "start_time": "2024-02-13T04:54:00.227834",
     "status": "completed"
    },
    "tags": []
   },
   "outputs": [],
   "source": [
    "data = pd.read_csv('loan-prediction-based-on-customer-behavior/Training Data.csv')"
   ]
  },
  {
   "cell_type": "code",
   "execution_count": 4,
   "id": "c43c337d",
   "metadata": {
    "execution": {
     "iopub.execute_input": "2024-02-13T04:54:01.181321Z",
     "iopub.status.busy": "2024-02-13T04:54:01.178857Z",
     "iopub.status.idle": "2024-02-13T04:54:01.213113Z",
     "shell.execute_reply": "2024-02-13T04:54:01.212187Z",
     "shell.execute_reply.started": "2021-09-08T07:17:25.181993Z"
    },
    "papermill": {
     "duration": 0.071003,
     "end_time": "2024-02-13T04:54:01.213309",
     "exception": false,
     "start_time": "2024-02-13T04:54:01.142306",
     "status": "completed"
    },
    "tags": []
   },
   "outputs": [
    {
     "data": {
      "text/html": [
       "<div>\n",
       "<style scoped>\n",
       "    .dataframe tbody tr th:only-of-type {\n",
       "        vertical-align: middle;\n",
       "    }\n",
       "\n",
       "    .dataframe tbody tr th {\n",
       "        vertical-align: top;\n",
       "    }\n",
       "\n",
       "    .dataframe thead th {\n",
       "        text-align: right;\n",
       "    }\n",
       "</style>\n",
       "<table border=\"1\" class=\"dataframe\">\n",
       "  <thead>\n",
       "    <tr style=\"text-align: right;\">\n",
       "      <th></th>\n",
       "      <th>Id</th>\n",
       "      <th>Income</th>\n",
       "      <th>Age</th>\n",
       "      <th>Experience</th>\n",
       "      <th>Married/Single</th>\n",
       "      <th>House_Ownership</th>\n",
       "      <th>Car_Ownership</th>\n",
       "      <th>Profession</th>\n",
       "      <th>CITY</th>\n",
       "      <th>STATE</th>\n",
       "      <th>CURRENT_JOB_YRS</th>\n",
       "      <th>CURRENT_HOUSE_YRS</th>\n",
       "      <th>Risk_Flag</th>\n",
       "    </tr>\n",
       "  </thead>\n",
       "  <tbody>\n",
       "    <tr>\n",
       "      <th>0</th>\n",
       "      <td>1</td>\n",
       "      <td>1303834</td>\n",
       "      <td>23</td>\n",
       "      <td>3</td>\n",
       "      <td>single</td>\n",
       "      <td>rented</td>\n",
       "      <td>no</td>\n",
       "      <td>Mechanical_engineer</td>\n",
       "      <td>Rewa</td>\n",
       "      <td>Madhya_Pradesh</td>\n",
       "      <td>3</td>\n",
       "      <td>13</td>\n",
       "      <td>0</td>\n",
       "    </tr>\n",
       "    <tr>\n",
       "      <th>1</th>\n",
       "      <td>2</td>\n",
       "      <td>7574516</td>\n",
       "      <td>40</td>\n",
       "      <td>10</td>\n",
       "      <td>single</td>\n",
       "      <td>rented</td>\n",
       "      <td>no</td>\n",
       "      <td>Software_Developer</td>\n",
       "      <td>Parbhani</td>\n",
       "      <td>Maharashtra</td>\n",
       "      <td>9</td>\n",
       "      <td>13</td>\n",
       "      <td>0</td>\n",
       "    </tr>\n",
       "    <tr>\n",
       "      <th>2</th>\n",
       "      <td>3</td>\n",
       "      <td>3991815</td>\n",
       "      <td>66</td>\n",
       "      <td>4</td>\n",
       "      <td>married</td>\n",
       "      <td>rented</td>\n",
       "      <td>no</td>\n",
       "      <td>Technical_writer</td>\n",
       "      <td>Alappuzha</td>\n",
       "      <td>Kerala</td>\n",
       "      <td>4</td>\n",
       "      <td>10</td>\n",
       "      <td>0</td>\n",
       "    </tr>\n",
       "    <tr>\n",
       "      <th>3</th>\n",
       "      <td>4</td>\n",
       "      <td>6256451</td>\n",
       "      <td>41</td>\n",
       "      <td>2</td>\n",
       "      <td>single</td>\n",
       "      <td>rented</td>\n",
       "      <td>yes</td>\n",
       "      <td>Software_Developer</td>\n",
       "      <td>Bhubaneswar</td>\n",
       "      <td>Odisha</td>\n",
       "      <td>2</td>\n",
       "      <td>12</td>\n",
       "      <td>1</td>\n",
       "    </tr>\n",
       "    <tr>\n",
       "      <th>4</th>\n",
       "      <td>5</td>\n",
       "      <td>5768871</td>\n",
       "      <td>47</td>\n",
       "      <td>11</td>\n",
       "      <td>single</td>\n",
       "      <td>rented</td>\n",
       "      <td>no</td>\n",
       "      <td>Civil_servant</td>\n",
       "      <td>Tiruchirappalli[10]</td>\n",
       "      <td>Tamil_Nadu</td>\n",
       "      <td>3</td>\n",
       "      <td>14</td>\n",
       "      <td>1</td>\n",
       "    </tr>\n",
       "  </tbody>\n",
       "</table>\n",
       "</div>"
      ],
      "text/plain": [
       "   Id   Income  Age  Experience Married/Single House_Ownership Car_Ownership  \\\n",
       "0   1  1303834   23           3         single          rented            no   \n",
       "1   2  7574516   40          10         single          rented            no   \n",
       "2   3  3991815   66           4        married          rented            no   \n",
       "3   4  6256451   41           2         single          rented           yes   \n",
       "4   5  5768871   47          11         single          rented            no   \n",
       "\n",
       "            Profession                 CITY           STATE  CURRENT_JOB_YRS  \\\n",
       "0  Mechanical_engineer                 Rewa  Madhya_Pradesh                3   \n",
       "1   Software_Developer             Parbhani     Maharashtra                9   \n",
       "2     Technical_writer            Alappuzha          Kerala                4   \n",
       "3   Software_Developer          Bhubaneswar          Odisha                2   \n",
       "4        Civil_servant  Tiruchirappalli[10]      Tamil_Nadu                3   \n",
       "\n",
       "   CURRENT_HOUSE_YRS  Risk_Flag  \n",
       "0                 13          0  \n",
       "1                 13          0  \n",
       "2                 10          0  \n",
       "3                 12          1  \n",
       "4                 14          1  "
      ]
     },
     "execution_count": 4,
     "metadata": {},
     "output_type": "execute_result"
    }
   ],
   "source": [
    "data.head() #displaying head of the .csv file"
   ]
  },
  {
   "cell_type": "markdown",
   "id": "5d28b8c6",
   "metadata": {
    "papermill": {
     "duration": 0.028335,
     "end_time": "2024-02-13T04:54:01.267302",
     "exception": false,
     "start_time": "2024-02-13T04:54:01.238967",
     "status": "completed"
    },
    "tags": []
   },
   "source": [
    "# Dropping the Unecessary Columns"
   ]
  },
  {
   "cell_type": "code",
   "execution_count": 5,
   "id": "e173040a",
   "metadata": {
    "execution": {
     "iopub.execute_input": "2024-02-13T04:54:01.337486Z",
     "iopub.status.busy": "2024-02-13T04:54:01.336383Z",
     "iopub.status.idle": "2024-02-13T04:54:01.400453Z",
     "shell.execute_reply": "2024-02-13T04:54:01.401024Z",
     "shell.execute_reply.started": "2021-09-08T07:21:11.813448Z"
    },
    "papermill": {
     "duration": 0.104345,
     "end_time": "2024-02-13T04:54:01.401275",
     "exception": false,
     "start_time": "2024-02-13T04:54:01.296930",
     "status": "completed"
    },
    "tags": []
   },
   "outputs": [],
   "source": [
    "data = data.drop(\"Id\", axis = 1)\n",
    "data = data.drop(\"CITY\", axis=1)"
   ]
  },
  {
   "cell_type": "code",
   "execution_count": 6,
   "id": "67808578",
   "metadata": {
    "execution": {
     "iopub.execute_input": "2024-02-13T04:54:01.482727Z",
     "iopub.status.busy": "2024-02-13T04:54:01.481864Z",
     "iopub.status.idle": "2024-02-13T04:54:01.487560Z",
     "shell.execute_reply": "2024-02-13T04:54:01.486894Z",
     "shell.execute_reply.started": "2021-09-08T07:22:00.387177Z"
    },
    "papermill": {
     "duration": 0.056442,
     "end_time": "2024-02-13T04:54:01.487732",
     "exception": false,
     "start_time": "2024-02-13T04:54:01.431290",
     "status": "completed"
    },
    "tags": []
   },
   "outputs": [
    {
     "data": {
      "text/html": [
       "<div>\n",
       "<style scoped>\n",
       "    .dataframe tbody tr th:only-of-type {\n",
       "        vertical-align: middle;\n",
       "    }\n",
       "\n",
       "    .dataframe tbody tr th {\n",
       "        vertical-align: top;\n",
       "    }\n",
       "\n",
       "    .dataframe thead th {\n",
       "        text-align: right;\n",
       "    }\n",
       "</style>\n",
       "<table border=\"1\" class=\"dataframe\">\n",
       "  <thead>\n",
       "    <tr style=\"text-align: right;\">\n",
       "      <th></th>\n",
       "      <th>Income</th>\n",
       "      <th>Age</th>\n",
       "      <th>Experience</th>\n",
       "      <th>Married/Single</th>\n",
       "      <th>House_Ownership</th>\n",
       "      <th>Car_Ownership</th>\n",
       "      <th>Profession</th>\n",
       "      <th>STATE</th>\n",
       "      <th>CURRENT_JOB_YRS</th>\n",
       "      <th>CURRENT_HOUSE_YRS</th>\n",
       "      <th>Risk_Flag</th>\n",
       "    </tr>\n",
       "  </thead>\n",
       "  <tbody>\n",
       "    <tr>\n",
       "      <th>0</th>\n",
       "      <td>1303834</td>\n",
       "      <td>23</td>\n",
       "      <td>3</td>\n",
       "      <td>single</td>\n",
       "      <td>rented</td>\n",
       "      <td>no</td>\n",
       "      <td>Mechanical_engineer</td>\n",
       "      <td>Madhya_Pradesh</td>\n",
       "      <td>3</td>\n",
       "      <td>13</td>\n",
       "      <td>0</td>\n",
       "    </tr>\n",
       "    <tr>\n",
       "      <th>1</th>\n",
       "      <td>7574516</td>\n",
       "      <td>40</td>\n",
       "      <td>10</td>\n",
       "      <td>single</td>\n",
       "      <td>rented</td>\n",
       "      <td>no</td>\n",
       "      <td>Software_Developer</td>\n",
       "      <td>Maharashtra</td>\n",
       "      <td>9</td>\n",
       "      <td>13</td>\n",
       "      <td>0</td>\n",
       "    </tr>\n",
       "    <tr>\n",
       "      <th>2</th>\n",
       "      <td>3991815</td>\n",
       "      <td>66</td>\n",
       "      <td>4</td>\n",
       "      <td>married</td>\n",
       "      <td>rented</td>\n",
       "      <td>no</td>\n",
       "      <td>Technical_writer</td>\n",
       "      <td>Kerala</td>\n",
       "      <td>4</td>\n",
       "      <td>10</td>\n",
       "      <td>0</td>\n",
       "    </tr>\n",
       "    <tr>\n",
       "      <th>3</th>\n",
       "      <td>6256451</td>\n",
       "      <td>41</td>\n",
       "      <td>2</td>\n",
       "      <td>single</td>\n",
       "      <td>rented</td>\n",
       "      <td>yes</td>\n",
       "      <td>Software_Developer</td>\n",
       "      <td>Odisha</td>\n",
       "      <td>2</td>\n",
       "      <td>12</td>\n",
       "      <td>1</td>\n",
       "    </tr>\n",
       "    <tr>\n",
       "      <th>4</th>\n",
       "      <td>5768871</td>\n",
       "      <td>47</td>\n",
       "      <td>11</td>\n",
       "      <td>single</td>\n",
       "      <td>rented</td>\n",
       "      <td>no</td>\n",
       "      <td>Civil_servant</td>\n",
       "      <td>Tamil_Nadu</td>\n",
       "      <td>3</td>\n",
       "      <td>14</td>\n",
       "      <td>1</td>\n",
       "    </tr>\n",
       "  </tbody>\n",
       "</table>\n",
       "</div>"
      ],
      "text/plain": [
       "    Income  Age  Experience Married/Single House_Ownership Car_Ownership  \\\n",
       "0  1303834   23           3         single          rented            no   \n",
       "1  7574516   40          10         single          rented            no   \n",
       "2  3991815   66           4        married          rented            no   \n",
       "3  6256451   41           2         single          rented           yes   \n",
       "4  5768871   47          11         single          rented            no   \n",
       "\n",
       "            Profession           STATE  CURRENT_JOB_YRS  CURRENT_HOUSE_YRS  \\\n",
       "0  Mechanical_engineer  Madhya_Pradesh                3                 13   \n",
       "1   Software_Developer     Maharashtra                9                 13   \n",
       "2     Technical_writer          Kerala                4                 10   \n",
       "3   Software_Developer          Odisha                2                 12   \n",
       "4        Civil_servant      Tamil_Nadu                3                 14   \n",
       "\n",
       "   Risk_Flag  \n",
       "0          0  \n",
       "1          0  \n",
       "2          0  \n",
       "3          1  \n",
       "4          1  "
      ]
     },
     "execution_count": 6,
     "metadata": {},
     "output_type": "execute_result"
    }
   ],
   "source": [
    "data.head() #displaying head of the .csv file"
   ]
  },
  {
   "cell_type": "markdown",
   "id": "e11c221a",
   "metadata": {
    "papermill": {
     "duration": 0.027998,
     "end_time": "2024-02-13T04:54:01.542597",
     "exception": false,
     "start_time": "2024-02-13T04:54:01.514599",
     "status": "completed"
    },
    "tags": []
   },
   "source": [
    "# Checking for NULL Values"
   ]
  },
  {
   "cell_type": "code",
   "execution_count": 7,
   "id": "a21e6c7a",
   "metadata": {
    "execution": {
     "iopub.execute_input": "2024-02-13T04:54:01.755904Z",
     "iopub.status.busy": "2024-02-13T04:54:01.754786Z",
     "iopub.status.idle": "2024-02-13T04:54:01.769527Z",
     "shell.execute_reply": "2024-02-13T04:54:01.768670Z",
     "shell.execute_reply.started": "2021-09-08T07:19:37.073304Z"
    },
    "papermill": {
     "duration": 0.199105,
     "end_time": "2024-02-13T04:54:01.769698",
     "exception": false,
     "start_time": "2024-02-13T04:54:01.570593",
     "status": "completed"
    },
    "tags": []
   },
   "outputs": [
    {
     "data": {
      "text/plain": [
       "Income               0\n",
       "Age                  0\n",
       "Experience           0\n",
       "Married/Single       0\n",
       "House_Ownership      0\n",
       "Car_Ownership        0\n",
       "Profession           0\n",
       "STATE                0\n",
       "CURRENT_JOB_YRS      0\n",
       "CURRENT_HOUSE_YRS    0\n",
       "Risk_Flag            0\n",
       "dtype: int64"
      ]
     },
     "execution_count": 7,
     "metadata": {},
     "output_type": "execute_result"
    }
   ],
   "source": [
    "data.isnull().sum()"
   ]
  },
  {
   "cell_type": "markdown",
   "id": "50fc2beb",
   "metadata": {
    "papermill": {
     "duration": 0.027995,
     "end_time": "2024-02-13T04:54:01.832321",
     "exception": false,
     "start_time": "2024-02-13T04:54:01.804326",
     "status": "completed"
    },
    "tags": []
   },
   "source": [
    "# Describing the Data"
   ]
  },
  {
   "cell_type": "code",
   "execution_count": 8,
   "id": "d6367caa",
   "metadata": {
    "execution": {
     "iopub.execute_input": "2024-02-13T04:54:01.897302Z",
     "iopub.status.busy": "2024-02-13T04:54:01.895816Z",
     "iopub.status.idle": "2024-02-13T04:54:01.982755Z",
     "shell.execute_reply": "2024-02-13T04:54:01.983530Z",
     "shell.execute_reply.started": "2021-09-08T07:20:00.908309Z"
    },
    "papermill": {
     "duration": 0.124851,
     "end_time": "2024-02-13T04:54:01.983729",
     "exception": false,
     "start_time": "2024-02-13T04:54:01.858878",
     "status": "completed"
    },
    "tags": []
   },
   "outputs": [
    {
     "data": {
      "text/html": [
       "<div>\n",
       "<style scoped>\n",
       "    .dataframe tbody tr th:only-of-type {\n",
       "        vertical-align: middle;\n",
       "    }\n",
       "\n",
       "    .dataframe tbody tr th {\n",
       "        vertical-align: top;\n",
       "    }\n",
       "\n",
       "    .dataframe thead th {\n",
       "        text-align: right;\n",
       "    }\n",
       "</style>\n",
       "<table border=\"1\" class=\"dataframe\">\n",
       "  <thead>\n",
       "    <tr style=\"text-align: right;\">\n",
       "      <th></th>\n",
       "      <th>Income</th>\n",
       "      <th>Age</th>\n",
       "      <th>Experience</th>\n",
       "      <th>CURRENT_JOB_YRS</th>\n",
       "      <th>CURRENT_HOUSE_YRS</th>\n",
       "      <th>Risk_Flag</th>\n",
       "    </tr>\n",
       "  </thead>\n",
       "  <tbody>\n",
       "    <tr>\n",
       "      <th>count</th>\n",
       "      <td>2.520000e+05</td>\n",
       "      <td>252000.000000</td>\n",
       "      <td>252000.000000</td>\n",
       "      <td>252000.000000</td>\n",
       "      <td>252000.000000</td>\n",
       "      <td>252000.000000</td>\n",
       "    </tr>\n",
       "    <tr>\n",
       "      <th>mean</th>\n",
       "      <td>4.997117e+06</td>\n",
       "      <td>49.954071</td>\n",
       "      <td>10.084437</td>\n",
       "      <td>6.333877</td>\n",
       "      <td>11.997794</td>\n",
       "      <td>0.123000</td>\n",
       "    </tr>\n",
       "    <tr>\n",
       "      <th>std</th>\n",
       "      <td>2.878311e+06</td>\n",
       "      <td>17.063855</td>\n",
       "      <td>6.002590</td>\n",
       "      <td>3.647053</td>\n",
       "      <td>1.399037</td>\n",
       "      <td>0.328438</td>\n",
       "    </tr>\n",
       "    <tr>\n",
       "      <th>min</th>\n",
       "      <td>1.031000e+04</td>\n",
       "      <td>21.000000</td>\n",
       "      <td>0.000000</td>\n",
       "      <td>0.000000</td>\n",
       "      <td>10.000000</td>\n",
       "      <td>0.000000</td>\n",
       "    </tr>\n",
       "    <tr>\n",
       "      <th>25%</th>\n",
       "      <td>2.503015e+06</td>\n",
       "      <td>35.000000</td>\n",
       "      <td>5.000000</td>\n",
       "      <td>3.000000</td>\n",
       "      <td>11.000000</td>\n",
       "      <td>0.000000</td>\n",
       "    </tr>\n",
       "    <tr>\n",
       "      <th>50%</th>\n",
       "      <td>5.000694e+06</td>\n",
       "      <td>50.000000</td>\n",
       "      <td>10.000000</td>\n",
       "      <td>6.000000</td>\n",
       "      <td>12.000000</td>\n",
       "      <td>0.000000</td>\n",
       "    </tr>\n",
       "    <tr>\n",
       "      <th>75%</th>\n",
       "      <td>7.477502e+06</td>\n",
       "      <td>65.000000</td>\n",
       "      <td>15.000000</td>\n",
       "      <td>9.000000</td>\n",
       "      <td>13.000000</td>\n",
       "      <td>0.000000</td>\n",
       "    </tr>\n",
       "    <tr>\n",
       "      <th>max</th>\n",
       "      <td>9.999938e+06</td>\n",
       "      <td>79.000000</td>\n",
       "      <td>20.000000</td>\n",
       "      <td>14.000000</td>\n",
       "      <td>14.000000</td>\n",
       "      <td>1.000000</td>\n",
       "    </tr>\n",
       "  </tbody>\n",
       "</table>\n",
       "</div>"
      ],
      "text/plain": [
       "             Income            Age     Experience  CURRENT_JOB_YRS  \\\n",
       "count  2.520000e+05  252000.000000  252000.000000    252000.000000   \n",
       "mean   4.997117e+06      49.954071      10.084437         6.333877   \n",
       "std    2.878311e+06      17.063855       6.002590         3.647053   \n",
       "min    1.031000e+04      21.000000       0.000000         0.000000   \n",
       "25%    2.503015e+06      35.000000       5.000000         3.000000   \n",
       "50%    5.000694e+06      50.000000      10.000000         6.000000   \n",
       "75%    7.477502e+06      65.000000      15.000000         9.000000   \n",
       "max    9.999938e+06      79.000000      20.000000        14.000000   \n",
       "\n",
       "       CURRENT_HOUSE_YRS      Risk_Flag  \n",
       "count      252000.000000  252000.000000  \n",
       "mean           11.997794       0.123000  \n",
       "std             1.399037       0.328438  \n",
       "min            10.000000       0.000000  \n",
       "25%            11.000000       0.000000  \n",
       "50%            12.000000       0.000000  \n",
       "75%            13.000000       0.000000  \n",
       "max            14.000000       1.000000  "
      ]
     },
     "execution_count": 8,
     "metadata": {},
     "output_type": "execute_result"
    }
   ],
   "source": [
    "data.describe()"
   ]
  },
  {
   "cell_type": "markdown",
   "id": "3cf54ff5",
   "metadata": {
    "papermill": {
     "duration": 0.026556,
     "end_time": "2024-02-13T04:54:02.037138",
     "exception": false,
     "start_time": "2024-02-13T04:54:02.010582",
     "status": "completed"
    },
    "tags": []
   },
   "source": [
    "# Encoding The Data"
   ]
  },
  {
   "cell_type": "code",
   "execution_count": 9,
   "id": "09d96616",
   "metadata": {
    "execution": {
     "iopub.execute_input": "2024-02-13T04:54:02.096233Z",
     "iopub.status.busy": "2024-02-13T04:54:02.095128Z",
     "iopub.status.idle": "2024-02-13T04:54:02.618577Z",
     "shell.execute_reply": "2024-02-13T04:54:02.619284Z",
     "shell.execute_reply.started": "2021-09-08T07:22:47.922624Z"
    },
    "papermill": {
     "duration": 0.555479,
     "end_time": "2024-02-13T04:54:02.619490",
     "exception": false,
     "start_time": "2024-02-13T04:54:02.064011",
     "status": "completed"
    },
    "tags": []
   },
   "outputs": [],
   "source": [
    "en = LabelEncoder()\n",
    "catCols = ['Married/Single','House_Ownership','Car_Ownership','Profession','STATE']\n",
    "for cols in catCols:\n",
    "    data[cols] = en.fit_transform(data[cols])"
   ]
  },
  {
   "cell_type": "code",
   "execution_count": 10,
   "id": "1d5a4bbd",
   "metadata": {
    "execution": {
     "iopub.execute_input": "2024-02-13T04:54:02.693367Z",
     "iopub.status.busy": "2024-02-13T04:54:02.692520Z",
     "iopub.status.idle": "2024-02-13T04:54:02.696692Z",
     "shell.execute_reply": "2024-02-13T04:54:02.697290Z",
     "shell.execute_reply.started": "2021-09-08T07:23:07.624346Z"
    },
    "papermill": {
     "duration": 0.048018,
     "end_time": "2024-02-13T04:54:02.697485",
     "exception": false,
     "start_time": "2024-02-13T04:54:02.649467",
     "status": "completed"
    },
    "tags": []
   },
   "outputs": [
    {
     "data": {
      "text/html": [
       "<div>\n",
       "<style scoped>\n",
       "    .dataframe tbody tr th:only-of-type {\n",
       "        vertical-align: middle;\n",
       "    }\n",
       "\n",
       "    .dataframe tbody tr th {\n",
       "        vertical-align: top;\n",
       "    }\n",
       "\n",
       "    .dataframe thead th {\n",
       "        text-align: right;\n",
       "    }\n",
       "</style>\n",
       "<table border=\"1\" class=\"dataframe\">\n",
       "  <thead>\n",
       "    <tr style=\"text-align: right;\">\n",
       "      <th></th>\n",
       "      <th>Income</th>\n",
       "      <th>Age</th>\n",
       "      <th>Experience</th>\n",
       "      <th>Married/Single</th>\n",
       "      <th>House_Ownership</th>\n",
       "      <th>Car_Ownership</th>\n",
       "      <th>Profession</th>\n",
       "      <th>STATE</th>\n",
       "      <th>CURRENT_JOB_YRS</th>\n",
       "      <th>CURRENT_HOUSE_YRS</th>\n",
       "      <th>Risk_Flag</th>\n",
       "    </tr>\n",
       "  </thead>\n",
       "  <tbody>\n",
       "    <tr>\n",
       "      <th>0</th>\n",
       "      <td>1303834</td>\n",
       "      <td>23</td>\n",
       "      <td>3</td>\n",
       "      <td>1</td>\n",
       "      <td>2</td>\n",
       "      <td>0</td>\n",
       "      <td>33</td>\n",
       "      <td>13</td>\n",
       "      <td>3</td>\n",
       "      <td>13</td>\n",
       "      <td>0</td>\n",
       "    </tr>\n",
       "    <tr>\n",
       "      <th>1</th>\n",
       "      <td>7574516</td>\n",
       "      <td>40</td>\n",
       "      <td>10</td>\n",
       "      <td>1</td>\n",
       "      <td>2</td>\n",
       "      <td>0</td>\n",
       "      <td>43</td>\n",
       "      <td>14</td>\n",
       "      <td>9</td>\n",
       "      <td>13</td>\n",
       "      <td>0</td>\n",
       "    </tr>\n",
       "    <tr>\n",
       "      <th>2</th>\n",
       "      <td>3991815</td>\n",
       "      <td>66</td>\n",
       "      <td>4</td>\n",
       "      <td>0</td>\n",
       "      <td>2</td>\n",
       "      <td>0</td>\n",
       "      <td>47</td>\n",
       "      <td>12</td>\n",
       "      <td>4</td>\n",
       "      <td>10</td>\n",
       "      <td>0</td>\n",
       "    </tr>\n",
       "    <tr>\n",
       "      <th>3</th>\n",
       "      <td>6256451</td>\n",
       "      <td>41</td>\n",
       "      <td>2</td>\n",
       "      <td>1</td>\n",
       "      <td>2</td>\n",
       "      <td>1</td>\n",
       "      <td>43</td>\n",
       "      <td>17</td>\n",
       "      <td>2</td>\n",
       "      <td>12</td>\n",
       "      <td>1</td>\n",
       "    </tr>\n",
       "    <tr>\n",
       "      <th>4</th>\n",
       "      <td>5768871</td>\n",
       "      <td>47</td>\n",
       "      <td>11</td>\n",
       "      <td>1</td>\n",
       "      <td>2</td>\n",
       "      <td>0</td>\n",
       "      <td>11</td>\n",
       "      <td>22</td>\n",
       "      <td>3</td>\n",
       "      <td>14</td>\n",
       "      <td>1</td>\n",
       "    </tr>\n",
       "  </tbody>\n",
       "</table>\n",
       "</div>"
      ],
      "text/plain": [
       "    Income  Age  Experience  Married/Single  House_Ownership  Car_Ownership  \\\n",
       "0  1303834   23           3               1                2              0   \n",
       "1  7574516   40          10               1                2              0   \n",
       "2  3991815   66           4               0                2              0   \n",
       "3  6256451   41           2               1                2              1   \n",
       "4  5768871   47          11               1                2              0   \n",
       "\n",
       "   Profession  STATE  CURRENT_JOB_YRS  CURRENT_HOUSE_YRS  Risk_Flag  \n",
       "0          33     13                3                 13          0  \n",
       "1          43     14                9                 13          0  \n",
       "2          47     12                4                 10          0  \n",
       "3          43     17                2                 12          1  \n",
       "4          11     22                3                 14          1  "
      ]
     },
     "execution_count": 10,
     "metadata": {},
     "output_type": "execute_result"
    }
   ],
   "source": [
    "data.head() #displaying head of the .csv file"
   ]
  },
  {
   "cell_type": "markdown",
   "id": "293849a1",
   "metadata": {
    "papermill": {
     "duration": 0.02895,
     "end_time": "2024-02-13T04:54:02.754387",
     "exception": false,
     "start_time": "2024-02-13T04:54:02.725437",
     "status": "completed"
    },
    "tags": []
   },
   "source": [
    "# Splitting Dataset into Train and Test"
   ]
  },
  {
   "cell_type": "code",
   "execution_count": 11,
   "id": "9ce9213f",
   "metadata": {
    "execution": {
     "iopub.execute_input": "2024-02-13T04:54:02.816441Z",
     "iopub.status.busy": "2024-02-13T04:54:02.815295Z",
     "iopub.status.idle": "2024-02-13T04:54:02.851754Z",
     "shell.execute_reply": "2024-02-13T04:54:02.850930Z",
     "shell.execute_reply.started": "2021-09-08T07:23:46.017756Z"
    },
    "papermill": {
     "duration": 0.068652,
     "end_time": "2024-02-13T04:54:02.851921",
     "exception": false,
     "start_time": "2024-02-13T04:54:02.783269",
     "status": "completed"
    },
    "tags": []
   },
   "outputs": [],
   "source": [
    "y = data[\"Risk_Flag\"]\n",
    "X = data.drop(\"Risk_Flag\",axis = 1)"
   ]
  },
  {
   "cell_type": "code",
   "execution_count": 12,
   "id": "36274411",
   "metadata": {
    "execution": {
     "iopub.execute_input": "2024-02-13T04:54:02.915737Z",
     "iopub.status.busy": "2024-02-13T04:54:02.914466Z",
     "iopub.status.idle": "2024-02-13T04:54:02.919633Z",
     "shell.execute_reply": "2024-02-13T04:54:02.918818Z",
     "shell.execute_reply.started": "2021-09-08T07:24:06.602951Z"
    },
    "papermill": {
     "duration": 0.039977,
     "end_time": "2024-02-13T04:54:02.919801",
     "exception": false,
     "start_time": "2024-02-13T04:54:02.879824",
     "status": "completed"
    },
    "tags": []
   },
   "outputs": [],
   "source": [
    "Y=pd.DataFrame(y)"
   ]
  },
  {
   "cell_type": "code",
   "execution_count": 13,
   "id": "9c5aee9d",
   "metadata": {
    "execution": {
     "iopub.execute_input": "2024-02-13T04:54:02.983125Z",
     "iopub.status.busy": "2024-02-13T04:54:02.982341Z",
     "iopub.status.idle": "2024-02-13T04:54:03.055471Z",
     "shell.execute_reply": "2024-02-13T04:54:03.054479Z",
     "shell.execute_reply.started": "2021-09-08T07:25:01.383113Z"
    },
    "papermill": {
     "duration": 0.108279,
     "end_time": "2024-02-13T04:54:03.055658",
     "exception": false,
     "start_time": "2024-02-13T04:54:02.947379",
     "status": "completed"
    },
    "tags": []
   },
   "outputs": [],
   "source": [
    "X_train, X_test, y_train, y_test = train_test_split(X, Y, train_size=0.8, test_size=0.2)"
   ]
  },
  {
   "cell_type": "markdown",
   "id": "723de6bb",
   "metadata": {
    "papermill": {
     "duration": 0.027057,
     "end_time": "2024-02-13T04:54:03.113121",
     "exception": false,
     "start_time": "2024-02-13T04:54:03.086064",
     "status": "completed"
    },
    "tags": []
   },
   "source": [
    "# Creating the XGBoost Model"
   ]
  },
  {
   "cell_type": "code",
   "execution_count": 14,
   "id": "53b27753",
   "metadata": {
    "execution": {
     "iopub.execute_input": "2024-02-13T04:54:03.180850Z",
     "iopub.status.busy": "2024-02-13T04:54:03.180040Z",
     "iopub.status.idle": "2024-02-13T04:55:32.172045Z",
     "shell.execute_reply": "2024-02-13T04:55:32.172677Z",
     "shell.execute_reply.started": "2021-09-08T07:25:56.021982Z"
    },
    "papermill": {
     "duration": 89.030552,
     "end_time": "2024-02-13T04:55:32.172882",
     "exception": false,
     "start_time": "2024-02-13T04:54:03.142330",
     "status": "completed"
    },
    "tags": []
   },
   "outputs": [
    {
     "name": "stdout",
     "output_type": "stream",
     "text": [
      "accuracy_score: 0.8971825396825397\n"
     ]
    }
   ],
   "source": [
    "from xgboost import XGBClassifier\n",
    "from sklearn.model_selection import cross_val_score\n",
    "from sklearn.metrics import confusion_matrix, precision_score, recall_score, f1_score, accuracy_score, roc_auc_score\n",
    "# Define the model\n",
    "\n",
    "    \n",
    "    # defining the model\n",
    "clf = XGBClassifier(learning_rate=0.1, \n",
    "                    n_estimators=1000, \n",
    "                    use_label_encoder=False,\n",
    "                    random_state=42)\n",
    "    \n",
    "clf.fit(X_train, y_train, eval_metric='logloss')\n",
    "predictions = clf.predict(X_test) \n",
    "print(\"accuracy_score: \" + str(accuracy_score(y_test, predictions)))"
   ]
  },
  {
   "cell_type": "markdown",
   "id": "a1954ee0",
   "metadata": {
    "papermill": {
     "duration": 0.029857,
     "end_time": "2024-02-13T04:55:32.231571",
     "exception": false,
     "start_time": "2024-02-13T04:55:32.201714",
     "status": "completed"
    },
    "tags": []
   },
   "source": [
    "# Calculating the ROC Score of Model"
   ]
  },
  {
   "cell_type": "code",
   "execution_count": 15,
   "id": "2c63f192",
   "metadata": {
    "execution": {
     "iopub.execute_input": "2024-02-13T04:55:32.297922Z",
     "iopub.status.busy": "2024-02-13T04:55:32.296759Z",
     "iopub.status.idle": "2024-02-13T04:55:32.318919Z",
     "shell.execute_reply": "2024-02-13T04:55:32.319624Z",
     "shell.execute_reply.started": "2021-09-08T07:28:30.223896Z"
    },
    "papermill": {
     "duration": 0.057239,
     "end_time": "2024-02-13T04:55:32.319834",
     "exception": false,
     "start_time": "2024-02-13T04:55:32.262595",
     "status": "completed"
    },
    "tags": []
   },
   "outputs": [
    {
     "name": "stdout",
     "output_type": "stream",
     "text": [
      "ROC AUC score: 0.6837972465278378\n"
     ]
    }
   ],
   "source": [
    "print(\"ROC AUC score: \" + str(roc_auc_score(y_test, predictions)))"
   ]
  },
  {
   "cell_type": "markdown",
   "id": "8896c4b2",
   "metadata": {
    "papermill": {
     "duration": 0.032229,
     "end_time": "2024-02-13T04:55:32.384178",
     "exception": false,
     "start_time": "2024-02-13T04:55:32.351949",
     "status": "completed"
    },
    "tags": []
   },
   "source": []
  },
  {
   "cell_type": "markdown",
   "id": "914124e4",
   "metadata": {
    "papermill": {
     "duration": 0.030992,
     "end_time": "2024-02-13T04:55:32.444001",
     "exception": false,
     "start_time": "2024-02-13T04:55:32.413009",
     "status": "completed"
    },
    "tags": []
   },
   "source": []
  }
 ],
 "metadata": {
  "kaggle": {
   "accelerator": "none",
   "dataSources": [
    {
     "datasetId": 1532161,
     "sourceId": 2528751,
     "sourceType": "datasetVersion"
    }
   ],
   "dockerImageVersionId": 30120,
   "isGpuEnabled": false,
   "isInternetEnabled": true,
   "language": "python",
   "sourceType": "notebook"
  },
  "kernelspec": {
   "display_name": "Python 3",
   "language": "python",
   "name": "python3"
  },
  "language_info": {
   "codemirror_mode": {
    "name": "ipython",
    "version": 3
   },
   "file_extension": ".py",
   "mimetype": "text/x-python",
   "name": "python",
   "nbconvert_exporter": "python",
   "pygments_lexer": "ipython3",
   "version": "3.7.10"
  },
  "papermill": {
   "default_parameters": {},
   "duration": 107.840068,
   "end_time": "2024-02-13T04:55:33.486076",
   "environment_variables": {},
   "exception": null,
   "input_path": "__notebook__.ipynb",
   "output_path": "__notebook__.ipynb",
   "parameters": {},
   "start_time": "2024-02-13T04:53:45.646008",
   "version": "2.3.3"
  }
 },
 "nbformat": 4,
 "nbformat_minor": 5
}
